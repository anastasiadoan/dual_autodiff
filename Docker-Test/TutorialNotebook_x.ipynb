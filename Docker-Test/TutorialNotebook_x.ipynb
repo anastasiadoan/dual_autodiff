{
 "cells": [
  {
   "attachments": {},
   "cell_type": "markdown",
   "metadata": {},
   "source": [
    "# Dual_autodiff"
   ]
  },
  {
   "attachments": {},
   "cell_type": "markdown",
   "metadata": {},
   "source": [
    "## Introduction"
   ]
  },
  {
   "attachments": {},
   "cell_type": "markdown",
   "metadata": {},
   "source": [
    "This package implements forward-mode automatic differentiation using dual numbers, a powerful technique of modern deep learning systems. Just as complex numbers consist of real and imaginary parts, dual numbers comprise real and dual components. However, while complex numbers use the imaginary unit *i* where *i²* = -1, dual numbers employ a dual unit *ε* where *ε²* = 0.\n",
    "\n",
    "Forward-mode automatic differentiation is particularly efficient for functions with few input variables but many outputs - a common scenario in neural networks with small input layers and larger output layers. The method computes exact derivatives without relying on numerical approximations, making it both precise and computationally efficient.\n",
    "\n",
    "The dual number system provides an mathematical framework for automatic differentiation. A dual number takes the form *a + bε*, where '*a*' represents the real component and '*b*' represents the dual component. This structure, combined with the fundamental property *ε²* = 0, enables direct computation of derivatives through algebraic manipulation rather than numerical limits or symbolic differentiation.\n",
    "\n",
    "This implementation provides a robust foundation for gradient-based optimization tasks, particularly in machine learning applications where accurate and efficient derivative computation is essential. "
   ]
  },
  {
   "attachments": {},
   "cell_type": "markdown",
   "metadata": {},
   "source": [
    "## User guide"
   ]
  },
  {
   "attachments": {},
   "cell_type": "markdown",
   "metadata": {},
   "source": [
    "### Installation"
   ]
  },
  {
   "attachments": {},
   "cell_type": "markdown",
   "metadata": {},
   "source": [
    "To install the package, install it using"
   ]
  },
  {
   "cell_type": "code",
   "execution_count": 2,
   "metadata": {},
   "outputs": [],
   "source": [
    "import dual_autodiff_x"
   ]
  },
  {
   "attachments": {},
   "cell_type": "markdown",
   "metadata": {},
   "source": [
    "You can start using the module by:"
   ]
  },
  {
   "cell_type": "code",
   "execution_count": 3,
   "metadata": {},
   "outputs": [],
   "source": [
    "from dual_autodiff_x.dual import Dual as Dual_Cython"
   ]
  },
  {
   "attachments": {},
   "cell_type": "markdown",
   "metadata": {},
   "source": [
    "### Basic Usage"
   ]
  },
  {
   "attachments": {},
   "cell_type": "markdown",
   "metadata": {},
   "source": [
    "The package has one main module called Dual. In this module, many mathematical operations are ready to use. We also add some more complex functions such as hyperbolic functions. All you have to do is call the function, put in the correct inputs and it will run smooth as butter."
   ]
  },
  {
   "attachments": {},
   "cell_type": "markdown",
   "metadata": {},
   "source": [
    "Here are some examples of how we make and define the function"
   ]
  },
  {
   "attachments": {},
   "cell_type": "markdown",
   "metadata": {},
   "source": [
    "## Examples"
   ]
  },
  {
   "attachments": {},
   "cell_type": "markdown",
   "metadata": {},
   "source": [
    "If you want to add two dual number, (6,2) and (3,1)"
   ]
  },
  {
   "cell_type": "code",
   "execution_count": 4,
   "metadata": {},
   "outputs": [
    {
     "name": "stdout",
     "output_type": "stream",
     "text": [
      "Dual(real=9.0, dual=3.0)\n"
     ]
    }
   ],
   "source": [
    "x = Dual_Cython(6,2)\n",
    "y = Dual_Cython(3,1)\n",
    "\n",
    "print(x+y)"
   ]
  },
  {
   "attachments": {},
   "cell_type": "markdown",
   "metadata": {},
   "source": [
    "Or if you want to try the sin of the number (2,1)"
   ]
  },
  {
   "cell_type": "code",
   "execution_count": 5,
   "metadata": {},
   "outputs": [
    {
     "name": "stdout",
     "output_type": "stream",
     "text": [
      "Dual(real=0.9092974268256817, dual=-0.4161468365471424)\n"
     ]
    }
   ],
   "source": [
    "x = Dual_Cython(2,1)\n",
    "print(x.sin())"
   ]
  }
 ],
 "metadata": {
  "kernelspec": {
   "display_name": "Python 3",
   "language": "python",
   "name": "python3"
  },
  "language_info": {
   "codemirror_mode": {
    "name": "ipython",
    "version": 3
   },
   "file_extension": ".py",
   "mimetype": "text/x-python",
   "name": "python",
   "nbconvert_exporter": "python",
   "pygments_lexer": "ipython3",
   "version": "3.9.6 (default, Aug 11 2023, 19:44:49) \n[Clang 15.0.0 (clang-1500.0.40.1)]"
  },
  "vscode": {
   "interpreter": {
    "hash": "31f2aee4e71d21fbe5cf8b01ff0e069b9275f58929596ceb00d14d90e3e16cd6"
   }
  }
 },
 "nbformat": 4,
 "nbformat_minor": 2
}
