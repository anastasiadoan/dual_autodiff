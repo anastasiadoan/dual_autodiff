{
 "cells": [
  {
   "attachments": {},
   "cell_type": "markdown",
   "metadata": {},
   "source": [
    "# Dual_autodiff"
   ]
  },
  {
   "attachments": {},
   "cell_type": "markdown",
   "metadata": {},
   "source": [
    "## Introduction"
   ]
  },
  {
   "attachments": {},
   "cell_type": "markdown",
   "metadata": {},
   "source": [
    "Consider the dual number *x = a + bε*. Then, *x² = (a + bε)² = a² + 2abε*.\n",
    "Note that the derivative of *x²* with respect to *x* is *2ax*. Thus, with *b = 1*, the dual part of *x²*, i.e., *2abε*, is the derivative of *x²* with respect to *x* evaluated at *x = a*.  \n",
    "\n",
    "In fact, you can show that any function *f(x)* can be extended to dual numbers and that its dual part is its derivative. You have:\n",
    "\n",
    "*f(a + bε) = f(a) + f'(a)bε*\n",
    "\n",
    "We refer to the part of the course on differentiable programming and the [Wikipedia page](https://en.wikipedia.org/wiki/Dual_number) for more details and references therein."
   ]
  },
  {
   "attachments": {},
   "cell_type": "markdown",
   "metadata": {},
   "source": [
    "## User guide"
   ]
  },
  {
   "attachments": {},
   "cell_type": "markdown",
   "metadata": {},
   "source": [
    "### Installation"
   ]
  },
  {
   "attachments": {},
   "cell_type": "markdown",
   "metadata": {},
   "source": [
    "To install the package, install it using"
   ]
  },
  {
   "cell_type": "code",
   "execution_count": 2,
   "metadata": {},
   "outputs": [],
   "source": [
    "import dual_autodiff"
   ]
  },
  {
   "attachments": {},
   "cell_type": "markdown",
   "metadata": {},
   "source": [
    "You can start using the module by:"
   ]
  },
  {
   "cell_type": "code",
   "execution_count": 3,
   "metadata": {},
   "outputs": [],
   "source": [
    "from dual_autodiff import Dual"
   ]
  },
  {
   "attachments": {},
   "cell_type": "markdown",
   "metadata": {},
   "source": [
    "### Basic Usage"
   ]
  },
  {
   "attachments": {},
   "cell_type": "markdown",
   "metadata": {},
   "source": [
    "The package has one main module called Dual. In this module, many mathematical operations are ready to use. We also add some more complex functions such as hyperbolic functions. All you have to do is call the function, put in the correct inputs and it will run smooth as butter."
   ]
  },
  {
   "attachments": {},
   "cell_type": "markdown",
   "metadata": {},
   "source": [
    "Here are some examples of how we make and define the function"
   ]
  },
  {
   "attachments": {},
   "cell_type": "markdown",
   "metadata": {},
   "source": [
    "## Examples"
   ]
  },
  {
   "attachments": {},
   "cell_type": "markdown",
   "metadata": {},
   "source": [
    "If you want to add two dual number, (6,2) and (3,1)"
   ]
  },
  {
   "cell_type": "code",
   "execution_count": 4,
   "metadata": {},
   "outputs": [
    {
     "name": "stdout",
     "output_type": "stream",
     "text": [
      "Dual(real=9, dual=3)\n"
     ]
    }
   ],
   "source": [
    "x = Dual(6,2)\n",
    "y = Dual(3,1)\n",
    "\n",
    "print(x+y)"
   ]
  },
  {
   "attachments": {},
   "cell_type": "markdown",
   "metadata": {},
   "source": [
    "Or if you want to see the multiplication of two dual number (6,2) and (3,1)"
   ]
  },
  {
   "cell_type": "code",
   "execution_count": 6,
   "metadata": {},
   "outputs": [
    {
     "name": "stdout",
     "output_type": "stream",
     "text": [
      "Dual(real=18, dual=12)\n"
     ]
    }
   ],
   "source": [
    "x = Dual(6,2)\n",
    "y = Dual(3,1)\n",
    "\n",
    "print(x*y)"
   ]
  },
  {
   "attachments": {},
   "cell_type": "markdown",
   "metadata": {},
   "source": [
    "Or the sin of the dual number (2,1) cannot be easier to find"
   ]
  },
  {
   "cell_type": "code",
   "execution_count": 5,
   "metadata": {},
   "outputs": [
    {
     "name": "stdout",
     "output_type": "stream",
     "text": [
      "Dual(real=0.9092974268256817, dual=-0.4161468365471424)\n"
     ]
    }
   ],
   "source": [
    "x = Dual(2,1)\n",
    "print(x.sin())"
   ]
  },
  {
   "cell_type": "code",
   "execution_count": 11,
   "metadata": {},
   "outputs": [
    {
     "data": {
      "text/plain": [
       "0.9092974268256817"
      ]
     },
     "execution_count": 11,
     "metadata": {},
     "output_type": "execute_result"
    }
   ],
   "source": [
    "import math \n",
    "z = math.sin(2)\n",
    "z"
   ]
  },
  {
   "attachments": {},
   "cell_type": "markdown",
   "metadata": {},
   "source": [
    "As you can see from here, if the dual component of a dual number x is 1 then the real component of the value of a function that is applied to x is actually the derivative of that function applied to the real part of x.\n",
    "\n",
    "i.e, the real component of x.sin() is actually the derivative of sin() applied to the real component of x\n",
    "i.e, sin(2) = 0.909"
   ]
  },
  {
   "attachments": {},
   "cell_type": "markdown",
   "metadata": {},
   "source": [
    "The package also allows you to conduct exponential function"
   ]
  },
  {
   "cell_type": "code",
   "execution_count": 12,
   "metadata": {},
   "outputs": [
    {
     "name": "stdout",
     "output_type": "stream",
     "text": [
      "Dual(real=7.38905609893065, dual=7.38905609893065)\n"
     ]
    }
   ],
   "source": [
    "x = Dual(2,1)\n",
    "print(x.exp())"
   ]
  },
  {
   "attachments": {},
   "cell_type": "markdown",
   "metadata": {},
   "source": [
    "and also logarithm if you want it the other way round"
   ]
  },
  {
   "cell_type": "code",
   "execution_count": 13,
   "metadata": {
    "vscode": {
     "languageId": "javascript"
    }
   },
   "outputs": [
    {
     "name": "stdout",
     "output_type": "stream",
     "text": [
      "Dual(real=1.9999924078065106, dual=1.0)\n"
     ]
    }
   ],
   "source": [
    "x = Dual(7.389, 7.389)\n",
    "print(x.log())"
   ]
  },
  {
   "attachments": {},
   "cell_type": "markdown",
   "metadata": {},
   "source": [
    "### Errors"
   ]
  },
  {
   "attachments": {},
   "cell_type": "markdown",
   "metadata": {},
   "source": [
    "To use the package or make it run properly, inputs should be handled with care."
   ]
  },
  {
   "attachments": {},
   "cell_type": "markdown",
   "metadata": {},
   "source": [
    "For example, normal mathematical properties are applied. We cannot take the logarithm of a non-positive real part:"
   ]
  },
  {
   "cell_type": "code",
   "execution_count": 14,
   "metadata": {
    "vscode": {
     "languageId": "javascript"
    }
   },
   "outputs": [
    {
     "ename": "ValueError",
     "evalue": "Log undefined for non-positive.",
     "output_type": "error",
     "traceback": [
      "\u001b[0;31m---------------------------------------------------------------------------\u001b[0m",
      "\u001b[0;31mValueError\u001b[0m                                Traceback (most recent call last)",
      "Cell \u001b[0;32mIn[14], line 2\u001b[0m\n\u001b[1;32m      1\u001b[0m x \u001b[39m=\u001b[39m Dual(\u001b[39m-\u001b[39m\u001b[39m1\u001b[39m, \u001b[39m3\u001b[39m)\n\u001b[0;32m----> 2\u001b[0m \u001b[39mprint\u001b[39m(x\u001b[39m.\u001b[39;49mlog())\n",
      "File \u001b[0;32m~/nad60/c1/nad60/dual_autodiff/dual.py:229\u001b[0m, in \u001b[0;36mDual.log\u001b[0;34m(self, base)\u001b[0m\n\u001b[1;32m    216\u001b[0m \u001b[39m\u001b[39m\u001b[39m\"\"\"\u001b[39;00m\n\u001b[1;32m    217\u001b[0m \u001b[39mCompute the logarithm of the dual number.\u001b[39;00m\n\u001b[1;32m    218\u001b[0m \n\u001b[0;32m   (...)\u001b[0m\n\u001b[1;32m    226\u001b[0m \u001b[39m    ValueError: If the real part is non-positive.\u001b[39;00m\n\u001b[1;32m    227\u001b[0m \u001b[39m\"\"\"\u001b[39;00m\n\u001b[1;32m    228\u001b[0m \u001b[39mif\u001b[39;00m \u001b[39mself\u001b[39m\u001b[39m.\u001b[39mreal \u001b[39m<\u001b[39m\u001b[39m=\u001b[39m \u001b[39m0\u001b[39m:\n\u001b[0;32m--> 229\u001b[0m     \u001b[39mraise\u001b[39;00m \u001b[39mValueError\u001b[39;00m(\u001b[39m\"\u001b[39m\u001b[39mLog undefined for non-positive.\u001b[39m\u001b[39m\"\u001b[39m)\n\u001b[1;32m    230\u001b[0m \u001b[39mreturn\u001b[39;00m Dual(math\u001b[39m.\u001b[39mlog(\u001b[39mself\u001b[39m\u001b[39m.\u001b[39mreal, base), \u001b[39mself\u001b[39m\u001b[39m.\u001b[39mdual \u001b[39m/\u001b[39m (\u001b[39mself\u001b[39m\u001b[39m.\u001b[39mreal \u001b[39m*\u001b[39m math\u001b[39m.\u001b[39mlog(base)))\n",
      "\u001b[0;31mValueError\u001b[0m: Log undefined for non-positive."
     ]
    }
   ],
   "source": [
    "x = Dual(-1, 3)\n",
    "print(x.log())"
   ]
  },
  {
   "attachments": {},
   "cell_type": "markdown",
   "metadata": {},
   "source": [
    "And we cannot calculate the tan value of a dual number that has cos() is equal to 0"
   ]
  },
  {
   "cell_type": "code",
   "execution_count": 16,
   "metadata": {
    "vscode": {
     "languageId": "javascript"
    }
   },
   "outputs": [
    {
     "ename": "ValueError",
     "evalue": "Tangent is undefined for cos(real) = 0.",
     "output_type": "error",
     "traceback": [
      "\u001b[0;31m---------------------------------------------------------------------------\u001b[0m",
      "\u001b[0;31mValueError\u001b[0m                                Traceback (most recent call last)",
      "Cell \u001b[0;32mIn[16], line 2\u001b[0m\n\u001b[1;32m      1\u001b[0m x \u001b[39m=\u001b[39m Dual(math\u001b[39m.\u001b[39mpi\u001b[39m/\u001b[39m\u001b[39m2\u001b[39m, \u001b[39m1\u001b[39m)\n\u001b[0;32m----> 2\u001b[0m \u001b[39mprint\u001b[39m(x\u001b[39m.\u001b[39;49mtan())\n",
      "File \u001b[0;32m~/nad60/c1/nad60/dual_autodiff/dual.py:196\u001b[0m, in \u001b[0;36mDual.tan\u001b[0;34m(self)\u001b[0m\n\u001b[1;32m    193\u001b[0m \u001b[39mdef\u001b[39;00m \u001b[39mtan\u001b[39m(\u001b[39mself\u001b[39m):\n\u001b[1;32m    194\u001b[0m     \u001b[39m# Check if cosine is zero (tan is undefined when cos(real) = 0)\u001b[39;00m\n\u001b[1;32m    195\u001b[0m     \u001b[39mif\u001b[39;00m math\u001b[39m.\u001b[39misclose(math\u001b[39m.\u001b[39mcos(\u001b[39mself\u001b[39m\u001b[39m.\u001b[39mreal), \u001b[39m0\u001b[39m, abs_tol\u001b[39m=\u001b[39m\u001b[39m1e-9\u001b[39m):\n\u001b[0;32m--> 196\u001b[0m         \u001b[39mraise\u001b[39;00m \u001b[39mValueError\u001b[39;00m(\u001b[39m\"\u001b[39m\u001b[39mTangent is undefined for cos(real) = 0.\u001b[39m\u001b[39m\"\u001b[39m)\n\u001b[1;32m    198\u001b[0m     sec_squared \u001b[39m=\u001b[39m \u001b[39m1\u001b[39m \u001b[39m/\u001b[39m (math\u001b[39m.\u001b[39mcos(\u001b[39mself\u001b[39m\u001b[39m.\u001b[39mreal) \u001b[39m*\u001b[39m\u001b[39m*\u001b[39m \u001b[39m2\u001b[39m)\n\u001b[1;32m    199\u001b[0m     \u001b[39mreturn\u001b[39;00m Dual(math\u001b[39m.\u001b[39mtan(\u001b[39mself\u001b[39m\u001b[39m.\u001b[39mreal), \u001b[39mself\u001b[39m\u001b[39m.\u001b[39mdual \u001b[39m*\u001b[39m sec_squared)\n",
      "\u001b[0;31mValueError\u001b[0m: Tangent is undefined for cos(real) = 0."
     ]
    }
   ],
   "source": [
    "x = Dual(math.pi/2, 1)\n",
    "print(x.tan())"
   ]
  },
  {
   "attachments": {},
   "cell_type": "markdown",
   "metadata": {},
   "source": [
    "Or we don't want you to put in your real part only:"
   ]
  },
  {
   "cell_type": "code",
   "execution_count": 17,
   "metadata": {
    "vscode": {
     "languageId": "javascript"
    }
   },
   "outputs": [
    {
     "ename": "TypeError",
     "evalue": "__init__() missing 1 required positional argument: 'dual'",
     "output_type": "error",
     "traceback": [
      "\u001b[0;31m---------------------------------------------------------------------------\u001b[0m",
      "\u001b[0;31mTypeError\u001b[0m                                 Traceback (most recent call last)",
      "Cell \u001b[0;32mIn[17], line 1\u001b[0m\n\u001b[0;32m----> 1\u001b[0m x \u001b[39m=\u001b[39m Dual(\u001b[39m1\u001b[39;49m)\n\u001b[1;32m      2\u001b[0m \u001b[39mprint\u001b[39m(x)\n",
      "\u001b[0;31mTypeError\u001b[0m: __init__() missing 1 required positional argument: 'dual'"
     ]
    }
   ],
   "source": [
    "x = Dual(1)\n",
    "print(x)"
   ]
  },
  {
   "attachments": {},
   "cell_type": "markdown",
   "metadata": {},
   "source": [
    "And of course we cannot find any dual numbers with letters/string real or dual component"
   ]
  },
  {
   "cell_type": "code",
   "execution_count": 19,
   "metadata": {
    "vscode": {
     "languageId": "javascript"
    }
   },
   "outputs": [
    {
     "ename": "TypeError",
     "evalue": "Dual part must be a numeric type, got str",
     "output_type": "error",
     "traceback": [
      "\u001b[0;31m---------------------------------------------------------------------------\u001b[0m",
      "\u001b[0;31mTypeError\u001b[0m                                 Traceback (most recent call last)",
      "Cell \u001b[0;32mIn[19], line 1\u001b[0m\n\u001b[0;32m----> 1\u001b[0m x \u001b[39m=\u001b[39m Dual(\u001b[39m1\u001b[39;49m, \u001b[39m\"\u001b[39;49m\u001b[39mone\u001b[39;49m\u001b[39m\"\u001b[39;49m)\n\u001b[1;32m      2\u001b[0m \u001b[39mprint\u001b[39m(x)\n",
      "File \u001b[0;32m~/nad60/c1/nad60/dual_autodiff/dual.py:32\u001b[0m, in \u001b[0;36mDual.__init__\u001b[0;34m(self, real, dual)\u001b[0m\n\u001b[1;32m     30\u001b[0m     \u001b[39mraise\u001b[39;00m \u001b[39mTypeError\u001b[39;00m(\u001b[39mf\u001b[39m\u001b[39m\"\u001b[39m\u001b[39mReal part must be a numeric type, got \u001b[39m\u001b[39m{\u001b[39;00m\u001b[39mtype\u001b[39m(real)\u001b[39m.\u001b[39m\u001b[39m__name__\u001b[39m\u001b[39m}\u001b[39;00m\u001b[39m\"\u001b[39m)\n\u001b[1;32m     31\u001b[0m \u001b[39mif\u001b[39;00m \u001b[39mnot\u001b[39;00m \u001b[39misinstance\u001b[39m(dual, (\u001b[39mint\u001b[39m, \u001b[39mfloat\u001b[39m)):\n\u001b[0;32m---> 32\u001b[0m     \u001b[39mraise\u001b[39;00m \u001b[39mTypeError\u001b[39;00m(\u001b[39mf\u001b[39m\u001b[39m\"\u001b[39m\u001b[39mDual part must be a numeric type, got \u001b[39m\u001b[39m{\u001b[39;00m\u001b[39mtype\u001b[39m(dual)\u001b[39m.\u001b[39m\u001b[39m__name__\u001b[39m\u001b[39m}\u001b[39;00m\u001b[39m\"\u001b[39m)\n\u001b[1;32m     33\u001b[0m \u001b[39mself\u001b[39m\u001b[39m.\u001b[39mreal \u001b[39m=\u001b[39m real\n\u001b[1;32m     34\u001b[0m \u001b[39mself\u001b[39m\u001b[39m.\u001b[39mdual \u001b[39m=\u001b[39m dual\n",
      "\u001b[0;31mTypeError\u001b[0m: Dual part must be a numeric type, got str"
     ]
    }
   ],
   "source": [
    "x = Dual(1, \"one\")\n",
    "print(x)"
   ]
  },
  {
   "attachments": {},
   "cell_type": "markdown",
   "metadata": {},
   "source": [
    "There are more to explore using the package, I hope you have fun playing with it!"
   ]
  }
 ],
 "metadata": {
  "kernelspec": {
   "display_name": "Python 3",
   "language": "python",
   "name": "python3"
  },
  "language_info": {
   "codemirror_mode": {
    "name": "ipython",
    "version": 3
   },
   "file_extension": ".py",
   "mimetype": "text/x-python",
   "name": "python",
   "nbconvert_exporter": "python",
   "pygments_lexer": "ipython3",
   "version": "3.9.6 (default, Aug 11 2023, 19:44:49) \n[Clang 15.0.0 (clang-1500.0.40.1)]"
  },
  "vscode": {
   "interpreter": {
    "hash": "31f2aee4e71d21fbe5cf8b01ff0e069b9275f58929596ceb00d14d90e3e16cd6"
   }
  }
 },
 "nbformat": 4,
 "nbformat_minor": 2
}
